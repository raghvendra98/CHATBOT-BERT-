{
 "cells": [
  {
   "cell_type": "code",
   "execution_count": 1,
   "id": "coordinate-contrast",
   "metadata": {},
   "outputs": [
    {
     "name": "stderr",
     "output_type": "stream",
     "text": [
      "/home/hb/.local/lib/python3.6/site-packages/tqdm/autonotebook/__init__.py:18: TqdmExperimentalWarning: Using `tqdm.autonotebook.tqdm` in notebook mode. Use `tqdm.tqdm` instead to force console mode (e.g. in jupyter console)\n",
      "  \" (e.g. in jupyter console)\", TqdmExperimentalWarning)\n"
     ]
    }
   ],
   "source": [
    "import os\n",
    "import pandas as pd\n",
    "from ast import literal_eval\n",
    "from cdqa.utils.filters import filter_paragraphs\n",
    "from cdqa.pipeline import QAPipeline"
   ]
  },
  {
   "cell_type": "code",
   "execution_count": 2,
   "id": "olive-links",
   "metadata": {},
   "outputs": [
    {
     "name": "stdout",
     "output_type": "stream",
     "text": [
      "\n",
      "Downloading BNP data...\n",
      "bnpp_newsroom-v1.1.csv already downloaded\n",
      "\n",
      "Downloading trained model...\n",
      "bert_qa.joblib already downloaded\n"
     ]
    }
   ],
   "source": [
    "from cdqa.utils.download import download_model, download_bnpp_data\n",
    "\n",
    "download_bnpp_data(dir='/home/hb/PROJECT/Chatbot_project/')\n",
    "download_model(model='bert-squad_1.1', dir='./models')"
   ]
  },
  {
   "cell_type": "code",
   "execution_count": 3,
   "id": "sorted-annotation",
   "metadata": {
    "scrolled": false
   },
   "outputs": [
    {
     "data": {
      "text/html": [
       "<div>\n",
       "<style scoped>\n",
       "    .dataframe tbody tr th:only-of-type {\n",
       "        vertical-align: middle;\n",
       "    }\n",
       "\n",
       "    .dataframe tbody tr th {\n",
       "        vertical-align: top;\n",
       "    }\n",
       "\n",
       "    .dataframe thead th {\n",
       "        text-align: right;\n",
       "    }\n",
       "</style>\n",
       "<table border=\"1\" class=\"dataframe\">\n",
       "  <thead>\n",
       "    <tr style=\"text-align: right;\">\n",
       "      <th></th>\n",
       "      <th>date</th>\n",
       "      <th>title</th>\n",
       "      <th>category</th>\n",
       "      <th>link</th>\n",
       "      <th>abstract</th>\n",
       "      <th>paragraphs</th>\n",
       "    </tr>\n",
       "  </thead>\n",
       "  <tbody>\n",
       "    <tr>\n",
       "      <th>0</th>\n",
       "      <td>13.05.2019</td>\n",
       "      <td>The banking jobs : Assistant Vice President – ...</td>\n",
       "      <td>Careers</td>\n",
       "      <td>https://group.bnpparibas/en/news/banking-jobs-...</td>\n",
       "      <td>Within the Group’s Corporate and Institutional...</td>\n",
       "      <td>[I manage a team in charge of designing and im...</td>\n",
       "    </tr>\n",
       "    <tr>\n",
       "      <th>1</th>\n",
       "      <td>13.05.2019</td>\n",
       "      <td>BNP Paribas at #VivaTech : discover the progra...</td>\n",
       "      <td>Innovation</td>\n",
       "      <td>https://group.bnpparibas/en/news/bnp-paribas-v...</td>\n",
       "      <td>From Thursday 16 to Saturday 18 May 2019, join...</td>\n",
       "      <td>[With François Hollande, Chairman of French fo...</td>\n",
       "    </tr>\n",
       "    <tr>\n",
       "      <th>2</th>\n",
       "      <td>13.05.2019</td>\n",
       "      <td>\"The bank with an IT budget of more than EUR6 ...</td>\n",
       "      <td>Group</td>\n",
       "      <td>https://group.bnpparibas/en/news/the-bank-budg...</td>\n",
       "      <td>Interview with Jean-Laurent Bonnafé, Director ...</td>\n",
       "      <td>[We did the groundwork between 2012 and 2016, ...</td>\n",
       "    </tr>\n",
       "    <tr>\n",
       "      <th>3</th>\n",
       "      <td>10.05.2019</td>\n",
       "      <td>BNP Paribas at #VivaTech : discover the progra...</td>\n",
       "      <td>Innovation</td>\n",
       "      <td>https://group.bnpparibas/en/news/bnp-paribas-v...</td>\n",
       "      <td>From Thursday 16 to Saturday 18 May 2019, join...</td>\n",
       "      <td>[As part of the ‘United Tech of Europe’ theme,...</td>\n",
       "    </tr>\n",
       "    <tr>\n",
       "      <th>4</th>\n",
       "      <td>10.05.2019</td>\n",
       "      <td>When Artificial Intelligence participates in r...</td>\n",
       "      <td>Careers</td>\n",
       "      <td>https://group.bnpparibas/en/news/artificial-in...</td>\n",
       "      <td>As the competition to attract talent intensifi...</td>\n",
       "      <td>[Online recruitment is already the norm. Accor...</td>\n",
       "    </tr>\n",
       "  </tbody>\n",
       "</table>\n",
       "</div>"
      ],
      "text/plain": [
       "         date                                              title    category  \\\n",
       "0  13.05.2019  The banking jobs : Assistant Vice President – ...     Careers   \n",
       "1  13.05.2019  BNP Paribas at #VivaTech : discover the progra...  Innovation   \n",
       "2  13.05.2019  \"The bank with an IT budget of more than EUR6 ...       Group   \n",
       "3  10.05.2019  BNP Paribas at #VivaTech : discover the progra...  Innovation   \n",
       "4  10.05.2019  When Artificial Intelligence participates in r...     Careers   \n",
       "\n",
       "                                                link  \\\n",
       "0  https://group.bnpparibas/en/news/banking-jobs-...   \n",
       "1  https://group.bnpparibas/en/news/bnp-paribas-v...   \n",
       "2  https://group.bnpparibas/en/news/the-bank-budg...   \n",
       "3  https://group.bnpparibas/en/news/bnp-paribas-v...   \n",
       "4  https://group.bnpparibas/en/news/artificial-in...   \n",
       "\n",
       "                                            abstract  \\\n",
       "0  Within the Group’s Corporate and Institutional...   \n",
       "1  From Thursday 16 to Saturday 18 May 2019, join...   \n",
       "2  Interview with Jean-Laurent Bonnafé, Director ...   \n",
       "3  From Thursday 16 to Saturday 18 May 2019, join...   \n",
       "4  As the competition to attract talent intensifi...   \n",
       "\n",
       "                                          paragraphs  \n",
       "0  [I manage a team in charge of designing and im...  \n",
       "1  [With François Hollande, Chairman of French fo...  \n",
       "2  [We did the groundwork between 2012 and 2016, ...  \n",
       "3  [As part of the ‘United Tech of Europe’ theme,...  \n",
       "4  [Online recruitment is already the norm. Accor...  "
      ]
     },
     "execution_count": 3,
     "metadata": {},
     "output_type": "execute_result"
    }
   ],
   "source": [
    "df = pd.read_csv('./bnpp_newsroom-v1.1.csv', converters={'paragraphs': literal_eval})\n",
    "df = filter_paragraphs(df)\n",
    "df.head()"
   ]
  },
  {
   "cell_type": "code",
   "execution_count": 4,
   "id": "interior-knife",
   "metadata": {},
   "outputs": [],
   "source": [
    "df.drop(df.filter(regex=\"Unnamed\"),axis=1, inplace=True)\n",
    "df.drop(df.filter(regex=\"link\"),axis=1, inplace=True)\n",
    "df.drop(df.filter(regex=\"category\"),axis=1, inplace=True)\n",
    "df.drop(df.filter(regex=\"date\"),axis=1, inplace=True)\n",
    "df.drop(df.filter(regex=\"abstract\"),axis=1, inplace=True)\n",
    "#df.drop(df.filter(regex=\"title\"),axis=1, inplace=True)"
   ]
  },
  {
   "cell_type": "code",
   "execution_count": 5,
   "id": "pleasant-thesis",
   "metadata": {},
   "outputs": [
    {
     "data": {
      "text/html": [
       "<div>\n",
       "<style scoped>\n",
       "    .dataframe tbody tr th:only-of-type {\n",
       "        vertical-align: middle;\n",
       "    }\n",
       "\n",
       "    .dataframe tbody tr th {\n",
       "        vertical-align: top;\n",
       "    }\n",
       "\n",
       "    .dataframe thead th {\n",
       "        text-align: right;\n",
       "    }\n",
       "</style>\n",
       "<table border=\"1\" class=\"dataframe\">\n",
       "  <thead>\n",
       "    <tr style=\"text-align: right;\">\n",
       "      <th></th>\n",
       "      <th>title</th>\n",
       "      <th>paragraphs</th>\n",
       "    </tr>\n",
       "  </thead>\n",
       "  <tbody>\n",
       "    <tr>\n",
       "      <th>0</th>\n",
       "      <td>The banking jobs : Assistant Vice President – ...</td>\n",
       "      <td>[I manage a team in charge of designing and im...</td>\n",
       "    </tr>\n",
       "  </tbody>\n",
       "</table>\n",
       "</div>"
      ],
      "text/plain": [
       "                                               title  \\\n",
       "0  The banking jobs : Assistant Vice President – ...   \n",
       "\n",
       "                                          paragraphs  \n",
       "0  [I manage a team in charge of designing and im...  "
      ]
     },
     "execution_count": 5,
     "metadata": {},
     "output_type": "execute_result"
    }
   ],
   "source": [
    "df.head(1)"
   ]
  },
  {
   "cell_type": "code",
   "execution_count": 6,
   "id": "sacred-division",
   "metadata": {},
   "outputs": [],
   "source": [
    "cdqa_pipeline = QAPipeline(rander='./models/bert_qa.joblib')"
   ]
  },
  {
   "cell_type": "code",
   "execution_count": 7,
   "id": "present-variance",
   "metadata": {},
   "outputs": [
    {
     "data": {
      "text/plain": [
       "QAPipeline(reader=BertQA(adam_epsilon=1e-08, bert_model='bert-base-uncased',\n",
       "                         do_lower_case=True, fp16=False,\n",
       "                         gradient_accumulation_steps=1, learning_rate=5e-05,\n",
       "                         local_rank=-1, loss_scale=0, max_answer_length=30,\n",
       "                         n_best_size=20, no_cuda=False,\n",
       "                         null_score_diff_threshold=0.0, num_train_epochs=3.0,\n",
       "                         output_dir=None, predict_batch_size=8, seed=42,\n",
       "                         server_ip='', server_po...ize=32,\n",
       "                         verbose_logging=False, version_2_with_negative=False,\n",
       "                         warmup_proportion=0.1, warmup_steps=0),\n",
       "           retrieve_by_doc=False,\n",
       "           retriever=BM25Retriever(b=0.75, floor=None, k1=2.0, lowercase=True,\n",
       "                                   max_df=0.85, min_df=2, ngram_range=(1, 2),\n",
       "                                   preprocessor=None, stop_words='english',\n",
       "                                   token_pattern='(?u)\\\\b\\\\w\\\\w+\\\\b',\n",
       "                                   tokenizer=None, top_n=20, verbose=False,\n",
       "                                   vocabulary=None))"
      ]
     },
     "execution_count": 7,
     "metadata": {},
     "output_type": "execute_result"
    }
   ],
   "source": [
    "cdqa_pipeline.fit_retriever(df=df)"
   ]
  },
  {
   "cell_type": "code",
   "execution_count": 8,
   "id": "forty-bradley",
   "metadata": {},
   "outputs": [],
   "source": [
    "query = 'Since when does the Excellence Program of BNP Paribas exist?'\n",
    "prediction = cdqa_pipeline.predict(query)"
   ]
  },
  {
   "cell_type": "code",
   "execution_count": 9,
   "id": "latest-tourist",
   "metadata": {},
   "outputs": [
    {
     "data": {
      "text/plain": [
       "('show high potential. The aid program lasts',\n",
       " 'BNP Paribas’ commitment to universities and schools',\n",
       " 'Since January 2016, BNP Paribas has offered an Excellence Program targeting new Master’s level graduates (BAC+5) who show high potential. The aid program lasts 18 months and comprises three assignments of six months each. It serves as a strong career accelerator that enables participants to access high-level management positions at a faster rate. The program allows participants to discover the BNP Paribas Group and its various entities in France and abroad, build an internal and external network by working on different assignments and receive personalized assistance from a mentor and coaching firm at every step along the way.',\n",
       " 6.784717116725485)"
      ]
     },
     "execution_count": 9,
     "metadata": {},
     "output_type": "execute_result"
    }
   ],
   "source": [
    "action=\"/action_page.php\"prediction"
   ]
  },
  {
   "cell_type": "code",
   "execution_count": 10,
   "id": "expired-brown",
   "metadata": {},
   "outputs": [
    {
     "name": "stdout",
     "output_type": "stream",
     "text": [
      "query: Since when does the Excellence Program of BNP Paribas exist?\n",
      "answer: show high potential. The aid program lasts\n",
      "title: BNP Paribas’ commitment to universities and schools\n",
      "paragraph: Since January 2016, BNP Paribas has offered an Excellence Program targeting new Master’s level graduates (BAC+5) who show high potential. The aid program lasts 18 months and comprises three assignments of six months each. It serves as a strong career accelerator that enables participants to access high-level management positions at a faster rate. The program allows participants to discover the BNP Paribas Group and its various entities in France and abroad, build an internal and external network by working on different assignments and receive personalized assistance from a mentor and coaching firm at every step along the way.\n"
     ]
    }
   ],
   "source": [
    "print('query: {}'.format(query))\n",
    "print('answer: {}'.format(prediction[0]))\n",
    "print('title: {}'.format(prediction[1]))\n",
    "print('paragraph: {}'.format(prediction[2]))"
   ]
  },
  {
   "cell_type": "code",
   "execution_count": 11,
   "id": "electoral-needle",
   "metadata": {},
   "outputs": [],
   "source": [
    "query1 = 'How many contracts did BNP Paribas Cardif sell in 2019?'"
   ]
  },
  {
   "cell_type": "code",
   "execution_count": 12,
   "id": "domestic-impact",
   "metadata": {},
   "outputs": [],
   "source": [
    "prediction1 = cdqa_pipeline.predict(query)"
   ]
  },
  {
   "cell_type": "code",
   "execution_count": null,
   "id": "recorded-whole",
   "metadata": {},
   "outputs": [],
   "source": []
  },
  {
   "cell_type": "code",
   "execution_count": 14,
   "id": "manual-karma",
   "metadata": {},
   "outputs": [],
   "source": [
    "import pickle"
   ]
  },
  {
   "cell_type": "code",
   "execution_count": null,
   "id": "faced-singer",
   "metadata": {},
   "outputs": [],
   "source": [
    "model = pickle.dump(cdqa_pipeline, open('model.pkl', 'wb'))"
   ]
  },
  {
   "cell_type": "code",
   "execution_count": null,
   "id": "damaged-match",
   "metadata": {},
   "outputs": [],
   "source": []
  }
 ],
 "metadata": {
  "kernelspec": {
   "display_name": "Python 3",
   "language": "python",
   "name": "python3"
  },
  "language_info": {
   "codemirror_mode": {
    "name": "ipython",
    "version": 3
   },
   "file_extension": ".py",
   "mimetype": "text/x-python",
   "name": "python",
   "nbconvert_exporter": "python",
   "pygments_lexer": "ipython3",
   "version": "3.6.9"
  }
 },
 "nbformat": 4,
 "nbformat_minor": 5
}
