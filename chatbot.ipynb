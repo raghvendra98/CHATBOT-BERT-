{
 "cells": [
  {
   "cell_type": "markdown",
   "metadata": {},
   "source": [
    "# CHATBOT  USING BERT"
   ]
  },
  {
   "cell_type": "code",
   "execution_count": 2,
   "metadata": {},
   "outputs": [],
   "source": [
    "import os\n",
    "import pandas as pd\n",
    "from ast import literal_eval\n",
    "from cdqa.utils.filters import filter_paragraphs"
   ]
  },
  {
   "cell_type": "code",
   "execution_count": 3,
   "metadata": {},
   "outputs": [],
   "source": [
    "with open('./data.txt', 'r') as file:\n",
    "    lines = file.readlines()"
   ]
  },
  {
   "cell_type": "code",
   "execution_count": 4,
   "metadata": {},
   "outputs": [],
   "source": [
    "df = pd.DataFrame(columns=['paragraphs'], data=[[lines]])"
   ]
  },
  {
   "cell_type": "code",
   "execution_count": 5,
   "metadata": {},
   "outputs": [
    {
     "data": {
      "text/html": [
       "<div>\n",
       "<style scoped>\n",
       "    .dataframe tbody tr th:only-of-type {\n",
       "        vertical-align: middle;\n",
       "    }\n",
       "\n",
       "    .dataframe tbody tr th {\n",
       "        vertical-align: top;\n",
       "    }\n",
       "\n",
       "    .dataframe thead th {\n",
       "        text-align: right;\n",
       "    }\n",
       "</style>\n",
       "<table border=\"1\" class=\"dataframe\">\n",
       "  <thead>\n",
       "    <tr style=\"text-align: right;\">\n",
       "      <th></th>\n",
       "      <th>paragraphs</th>\n",
       "    </tr>\n",
       "  </thead>\n",
       "  <tbody>\n",
       "    <tr>\n",
       "      <th>0</th>\n",
       "      <td>[virat kohli is on of the best cricketer in th...</td>\n",
       "    </tr>\n",
       "  </tbody>\n",
       "</table>\n",
       "</div>"
      ],
      "text/plain": [
       "                                          paragraphs\n",
       "0  [virat kohli is on of the best cricketer in th..."
      ]
     },
     "execution_count": 5,
     "metadata": {},
     "output_type": "execute_result"
    }
   ],
   "source": [
    "df.head()"
   ]
  },
  {
   "cell_type": "code",
   "execution_count": 6,
   "metadata": {},
   "outputs": [],
   "source": [
    "df['title'] = '1'"
   ]
  },
  {
   "cell_type": "code",
   "execution_count": 7,
   "metadata": {},
   "outputs": [],
   "source": [
    "# from cdqa.utils.converters import pdf_converter"
   ]
  },
  {
   "cell_type": "code",
   "execution_count": 8,
   "metadata": {},
   "outputs": [
    {
     "name": "stderr",
     "output_type": "stream",
     "text": [
      "/home/hb/.local/lib/python3.6/site-packages/tqdm/autonotebook/__init__.py:18: TqdmExperimentalWarning: Using `tqdm.autonotebook.tqdm` in notebook mode. Use `tqdm.tqdm` instead to force console mode (e.g. in jupyter console)\n",
      "  \" (e.g. in jupyter console)\", TqdmExperimentalWarning)\n"
     ]
    }
   ],
   "source": [
    "from cdqa.pipeline import QAPipeline"
   ]
  },
  {
   "cell_type": "code",
   "execution_count": 9,
   "metadata": {},
   "outputs": [],
   "source": [
    "from cdqa.utils.download import download_model"
   ]
  },
  {
   "cell_type": "code",
   "execution_count": 10,
   "metadata": {},
   "outputs": [],
   "source": [
    "# import ssl\n",
    "\n",
    "# ssl._create_default_https_context = ssl._create_unverified_context"
   ]
  },
  {
   "cell_type": "code",
   "execution_count": 11,
   "metadata": {},
   "outputs": [
    {
     "name": "stdout",
     "output_type": "stream",
     "text": [
      "\n",
      "Downloading trained model...\n",
      "bert_qa.joblib already downloaded\n"
     ]
    }
   ],
   "source": [
    "download_model(model='bert-squad_1.1', dir='./models')"
   ]
  },
  {
   "cell_type": "code",
   "execution_count": 12,
   "metadata": {},
   "outputs": [
    {
     "name": "stdout",
     "output_type": "stream",
     "text": [
      "mkdir: cannot create directory ‘docs’: File exists\r\n"
     ]
    }
   ],
   "source": [
    "!mkdir docs"
   ]
  },
  {
   "cell_type": "code",
   "execution_count": 13,
   "metadata": {},
   "outputs": [],
   "source": [
    "# from cdqa.utils.converters import pdf_converter\n",
    "# df = pdf_converter(directory_path='/home/hb/Downloads/')\n"
   ]
  },
  {
   "cell_type": "code",
   "execution_count": 14,
   "metadata": {},
   "outputs": [],
   "source": [
    "pd.set_option('display.max_colwidth', -1)"
   ]
  },
  {
   "cell_type": "code",
   "execution_count": 15,
   "metadata": {},
   "outputs": [
    {
     "data": {
      "text/html": [
       "<div>\n",
       "<style scoped>\n",
       "    .dataframe tbody tr th:only-of-type {\n",
       "        vertical-align: middle;\n",
       "    }\n",
       "\n",
       "    .dataframe tbody tr th {\n",
       "        vertical-align: top;\n",
       "    }\n",
       "\n",
       "    .dataframe thead th {\n",
       "        text-align: right;\n",
       "    }\n",
       "</style>\n",
       "<table border=\"1\" class=\"dataframe\">\n",
       "  <thead>\n",
       "    <tr style=\"text-align: right;\">\n",
       "      <th></th>\n",
       "      <th>paragraphs</th>\n",
       "      <th>title</th>\n",
       "    </tr>\n",
       "  </thead>\n",
       "  <tbody>\n",
       "    <tr>\n",
       "      <th>0</th>\n",
       "      <td>[virat kohli is on of the best cricketer in the World.\\n, Amazon.com, Inc.[7] (/ˈæməzɒn/ AM-ə-zon) is an American multinational technology company based in Seattle, Washington, which focuses on e-commerce, cloud computing, digital streaming, and artificial intelligence. It is one of the Big Five companies in the U.S. information technology industry, along with Google, Apple, Microsoft, and Facebook.[8][9][10][11] The company has been referred to as \"one of the most influential economic and cultural forces in the world\", as well as the world's most valuable brand.[12][13]\\n, Amazon was founded by Jeff Bezos in Bellevue, Washington, on July 5, 1994. It started as an online marketplace for books but expanded to sell electronics, software, video games, apparel, furniture, food, toys, and jewelry. In 2015, Amazon surpassed Walmart as the most valuable retailer in the United States by market capitalization.[14] In 2017, Amazon acquired Whole Foods Market for US$13.4 billion, which substantially increased its footprint as a physical retailer.[15] In 2018, its two-day delivery service, Amazon Prime, surpassed 100 million subscribers worldwide.[16]\\n, Amazon is known for its disruption of well-established industries through technological innovation and mass scale.[17][18][19] It is the world's largest online marketplace, AI assistant provider, live-streaming platform and cloud computing platform[20] as measured by revenue and market capitalization.[21] Amazon is the largest Internet company by revenue in the world.[22] It is the second largest private employer in the United States[23] and one of the world's most valuable companies. As of 2020, Amazon has the highest global brand valuation.[24]\\n, Amazon distributes downloads and streaming of video, music, and audiobooks through its Prime Video, Amazon Music, Twitch, and Audible subsidiaries. Amazon also has a publishing arm, Amazon Publishing, a film and television studio, Amazon Studios, and a cloud computing subsidiary, Amazon Web Services. It produces consumer electronics including Kindle e-readers, Fire tablets, Fire TV, and Echo devices. Its\\n, raghvendra kumar kittu\\n]</td>\n",
       "      <td>1</td>\n",
       "    </tr>\n",
       "  </tbody>\n",
       "</table>\n",
       "</div>"
      ],
      "text/plain": [
       "                                                                                                                                                                                                                                                                                                                                                                                                                                                                                                                                                                                                                                                                                                                                                                                                                                                                                                                                                                                                                                                                                                                                                                                                                                                                                                                                                                                                                                                                                                                                                                                                                                                                                                                                                                                                                                                                                                                                                                                                                                                                                                                                                                                                                                  paragraphs  \\\n",
       "0  [virat kohli is on of the best cricketer in the World.\\n, Amazon.com, Inc.[7] (/ˈæməzɒn/ AM-ə-zon) is an American multinational technology company based in Seattle, Washington, which focuses on e-commerce, cloud computing, digital streaming, and artificial intelligence. It is one of the Big Five companies in the U.S. information technology industry, along with Google, Apple, Microsoft, and Facebook.[8][9][10][11] The company has been referred to as \"one of the most influential economic and cultural forces in the world\", as well as the world's most valuable brand.[12][13]\\n, Amazon was founded by Jeff Bezos in Bellevue, Washington, on July 5, 1994. It started as an online marketplace for books but expanded to sell electronics, software, video games, apparel, furniture, food, toys, and jewelry. In 2015, Amazon surpassed Walmart as the most valuable retailer in the United States by market capitalization.[14] In 2017, Amazon acquired Whole Foods Market for US$13.4 billion, which substantially increased its footprint as a physical retailer.[15] In 2018, its two-day delivery service, Amazon Prime, surpassed 100 million subscribers worldwide.[16]\\n, Amazon is known for its disruption of well-established industries through technological innovation and mass scale.[17][18][19] It is the world's largest online marketplace, AI assistant provider, live-streaming platform and cloud computing platform[20] as measured by revenue and market capitalization.[21] Amazon is the largest Internet company by revenue in the world.[22] It is the second largest private employer in the United States[23] and one of the world's most valuable companies. As of 2020, Amazon has the highest global brand valuation.[24]\\n, Amazon distributes downloads and streaming of video, music, and audiobooks through its Prime Video, Amazon Music, Twitch, and Audible subsidiaries. Amazon also has a publishing arm, Amazon Publishing, a film and television studio, Amazon Studios, and a cloud computing subsidiary, Amazon Web Services. It produces consumer electronics including Kindle e-readers, Fire tablets, Fire TV, and Echo devices. Its\\n, raghvendra kumar kittu\\n]   \n",
       "\n",
       "  title  \n",
       "0  1     "
      ]
     },
     "execution_count": 15,
     "metadata": {},
     "output_type": "execute_result"
    }
   ],
   "source": [
    "df.head()"
   ]
  },
  {
   "cell_type": "code",
   "execution_count": 16,
   "metadata": {},
   "outputs": [
    {
     "data": {
      "text/plain": [
       "(1, 2)"
      ]
     },
     "execution_count": 16,
     "metadata": {},
     "output_type": "execute_result"
    }
   ],
   "source": [
    "df.shape"
   ]
  },
  {
   "cell_type": "code",
   "execution_count": 17,
   "metadata": {},
   "outputs": [
    {
     "data": {
      "text/plain": [
       "pandas.core.frame.DataFrame"
      ]
     },
     "execution_count": 17,
     "metadata": {},
     "output_type": "execute_result"
    }
   ],
   "source": [
    "type(df)"
   ]
  },
  {
   "cell_type": "code",
   "execution_count": 18,
   "metadata": {},
   "outputs": [],
   "source": [
    "cdqa_pipeline = QAPipeline(rander='./models/bert_qa.joblib',max_df=1.0)"
   ]
  },
  {
   "cell_type": "code",
   "execution_count": 19,
   "metadata": {
    "scrolled": true
   },
   "outputs": [
    {
     "data": {
      "text/plain": [
       "QAPipeline(reader=BertQA(adam_epsilon=1e-08, bert_model='bert-base-uncased',\n",
       "                         do_lower_case=True, fp16=False,\n",
       "                         gradient_accumulation_steps=1, learning_rate=5e-05,\n",
       "                         local_rank=-1, loss_scale=0, max_answer_length=30,\n",
       "                         n_best_size=20, no_cuda=False,\n",
       "                         null_score_diff_threshold=0.0, num_train_epochs=3.0,\n",
       "                         output_dir=None, predict_batch_size=8, seed=42,\n",
       "                         server_ip='', server_po...size=32,\n",
       "                         verbose_logging=False, version_2_with_negative=False,\n",
       "                         warmup_proportion=0.1, warmup_steps=0),\n",
       "           retrieve_by_doc=False,\n",
       "           retriever=BM25Retriever(b=0.75, floor=None, k1=2.0, lowercase=True,\n",
       "                                   max_df=1.0, min_df=2, ngram_range=(1, 2),\n",
       "                                   preprocessor=None, stop_words='english',\n",
       "                                   token_pattern='(?u)\\\\b\\\\w\\\\w+\\\\b',\n",
       "                                   tokenizer=None, top_n=20, verbose=False,\n",
       "                                   vocabulary=None))"
      ]
     },
     "execution_count": 19,
     "metadata": {},
     "output_type": "execute_result"
    }
   ],
   "source": [
    "cdqa_pipeline.fit_retriever(df=df)"
   ]
  },
  {
   "cell_type": "code",
   "execution_count": 20,
   "metadata": {},
   "outputs": [],
   "source": [
    "query = \"Who found the Amazon?\"\n",
    "prediction = cdqa_pipeline.predict(query, 3)"
   ]
  },
  {
   "cell_type": "code",
   "execution_count": 21,
   "metadata": {},
   "outputs": [
    {
     "data": {
      "text/plain": [
       "[(') is an American multinational technology company based in Seattle, Washington, which focuses on e-commerce, cloud computing, digital streaming',\n",
       "  '1',\n",
       "  'Amazon.com, Inc.[7] (/ˈæməzɒn/ AM-ə-zon) is an American multinational technology company based in Seattle, Washington, which focuses on e-commerce, cloud computing, digital streaming, and artificial intelligence. It is one of the Big Five companies in the U.S. information technology industry, along with Google, Apple, Microsoft, and Facebook.[8][9][10][11] The company has been referred to as \"one of the most influential economic and cultural forces in the world\", as well as the world\\'s most valuable brand.[12][13]\\n',\n",
       "  0.8557336093233521),\n",
       " ('by revenue in the world.[22] It is the second largest private employer in the United States[23] and one of',\n",
       "  '1',\n",
       "  \"Amazon is known for its disruption of well-established industries through technological innovation and mass scale.[17][18][19] It is the world's largest online marketplace, AI assistant provider, live-streaming platform and cloud computing platform[20] as measured by revenue and market capitalization.[21] Amazon is the largest Internet company by revenue in the world.[22] It is the second largest private employer in the United States[23] and one of the world's most valuable companies. As of 2020, Amazon has the highest global brand valuation.[24]\\n\",\n",
       "  0.7388608191368689),\n",
       " ('. It started as an online marketplace for books but expanded to sell electronics, software, video games',\n",
       "  '1',\n",
       "  'Amazon was founded by Jeff Bezos in Bellevue, Washington, on July 5, 1994. It started as an online marketplace for books but expanded to sell electronics, software, video games, apparel, furniture, food, toys, and jewelry. In 2015, Amazon surpassed Walmart as the most valuable retailer in the United States by market capitalization.[14] In 2017, Amazon acquired Whole Foods Market for US$13.4 billion, which substantially increased its footprint as a physical retailer.[15] In 2018, its two-day delivery service, Amazon Prime, surpassed 100 million subscribers worldwide.[16]\\n',\n",
       "  0.6971544564576933)]"
      ]
     },
     "execution_count": 21,
     "metadata": {},
     "output_type": "execute_result"
    }
   ],
   "source": [
    "prediction"
   ]
  },
  {
   "cell_type": "code",
   "execution_count": 22,
   "metadata": {},
   "outputs": [
    {
     "data": {
      "text/plain": [
       "[(') is an American multinational technology company based in Seattle, Washington, which focuses on e-commerce, cloud computing, digital streaming',\n",
       "  '1',\n",
       "  'Amazon.com, Inc.[7] (/ˈæməzɒn/ AM-ə-zon) is an American multinational technology company based in Seattle, Washington, which focuses on e-commerce, cloud computing, digital streaming, and artificial intelligence. It is one of the Big Five companies in the U.S. information technology industry, along with Google, Apple, Microsoft, and Facebook.[8][9][10][11] The company has been referred to as \"one of the most influential economic and cultural forces in the world\", as well as the world\\'s most valuable brand.[12][13]\\n',\n",
       "  0.8557336093233521),\n",
       " ('by revenue in the world.[22] It is the second largest private employer in the United States[23] and one of',\n",
       "  '1',\n",
       "  \"Amazon is known for its disruption of well-established industries through technological innovation and mass scale.[17][18][19] It is the world's largest online marketplace, AI assistant provider, live-streaming platform and cloud computing platform[20] as measured by revenue and market capitalization.[21] Amazon is the largest Internet company by revenue in the world.[22] It is the second largest private employer in the United States[23] and one of the world's most valuable companies. As of 2020, Amazon has the highest global brand valuation.[24]\\n\",\n",
       "  0.7388608191368689),\n",
       " ('. It started as an online marketplace for books but expanded to sell electronics, software, video games',\n",
       "  '1',\n",
       "  'Amazon was founded by Jeff Bezos in Bellevue, Washington, on July 5, 1994. It started as an online marketplace for books but expanded to sell electronics, software, video games, apparel, furniture, food, toys, and jewelry. In 2015, Amazon surpassed Walmart as the most valuable retailer in the United States by market capitalization.[14] In 2017, Amazon acquired Whole Foods Market for US$13.4 billion, which substantially increased its footprint as a physical retailer.[15] In 2018, its two-day delivery service, Amazon Prime, surpassed 100 million subscribers worldwide.[16]\\n',\n",
       "  0.6971544564576933)]"
      ]
     },
     "execution_count": 22,
     "metadata": {},
     "output_type": "execute_result"
    }
   ],
   "source": [
    "cdqa_pipeline.predict(query, 3)"
   ]
  },
  {
   "cell_type": "code",
   "execution_count": 23,
   "metadata": {},
   "outputs": [
    {
     "name": "stdout",
     "output_type": "stream",
     "text": [
      "query: Who found the Amazon?\n",
      "answer: (') is an American multinational technology company based in Seattle, Washington, which focuses on e-commerce, cloud computing, digital streaming', '1', 'Amazon.com, Inc.[7] (/ˈæməzɒn/ AM-ə-zon) is an American multinational technology company based in Seattle, Washington, which focuses on e-commerce, cloud computing, digital streaming, and artificial intelligence. It is one of the Big Five companies in the U.S. information technology industry, along with Google, Apple, Microsoft, and Facebook.[8][9][10][11] The company has been referred to as \"one of the most influential economic and cultural forces in the world\", as well as the world\\'s most valuable brand.[12][13]\\n', 0.8557336093233521)\n",
      "title: ('by revenue in the world.[22] It is the second largest private employer in the United States[23] and one of', '1', \"Amazon is known for its disruption of well-established industries through technological innovation and mass scale.[17][18][19] It is the world's largest online marketplace, AI assistant provider, live-streaming platform and cloud computing platform[20] as measured by revenue and market capitalization.[21] Amazon is the largest Internet company by revenue in the world.[22] It is the second largest private employer in the United States[23] and one of the world's most valuable companies. As of 2020, Amazon has the highest global brand valuation.[24]\\n\", 0.7388608191368689)\n",
      "paragraph: ('. It started as an online marketplace for books but expanded to sell electronics, software, video games', '1', 'Amazon was founded by Jeff Bezos in Bellevue, Washington, on July 5, 1994. It started as an online marketplace for books but expanded to sell electronics, software, video games, apparel, furniture, food, toys, and jewelry. In 2015, Amazon surpassed Walmart as the most valuable retailer in the United States by market capitalization.[14] In 2017, Amazon acquired Whole Foods Market for US$13.4 billion, which substantially increased its footprint as a physical retailer.[15] In 2018, its two-day delivery service, Amazon Prime, surpassed 100 million subscribers worldwide.[16]\\n', 0.6971544564576933)\n"
     ]
    }
   ],
   "source": [
    "print('query: {}'.format(query))\n",
    "print('answer: {}'.format(prediction[0]))\n",
    "print('title: {}'.format(prediction[1]))\n",
    "print('paragraph: {}'.format(prediction[2]))"
   ]
  },
  {
   "cell_type": "code",
   "execution_count": null,
   "metadata": {},
   "outputs": [],
   "source": []
  },
  {
   "cell_type": "code",
   "execution_count": null,
   "metadata": {},
   "outputs": [],
   "source": []
  },
  {
   "cell_type": "code",
   "execution_count": 24,
   "metadata": {},
   "outputs": [
    {
     "name": "stdout",
     "output_type": "stream",
     "text": [
      "0.25.0\n"
     ]
    }
   ],
   "source": []
  },
  {
   "cell_type": "code",
   "execution_count": 25,
   "metadata": {},
   "outputs": [],
   "source": [
    "import pickle"
   ]
  },
  {
   "cell_type": "code",
   "execution_count": 27,
   "metadata": {},
   "outputs": [],
   "source": [
    "model = pickle.dump(cdqa_pipeline, open('model2.pkl', 'wb'))"
   ]
  },
  {
   "cell_type": "code",
   "execution_count": null,
   "metadata": {},
   "outputs": [],
   "source": []
  },
  {
   "cell_type": "code",
   "execution_count": null,
   "metadata": {},
   "outputs": [],
   "source": []
  },
  {
   "cell_type": "code",
   "execution_count": null,
   "metadata": {},
   "outputs": [],
   "source": [
    "print(pd.__version__)"
   ]
  }
 ],
 "metadata": {
  "kernelspec": {
   "display_name": "Python 3",
   "language": "python",
   "name": "python3"
  },
  "language_info": {
   "codemirror_mode": {
    "name": "ipython",
    "version": 3
   },
   "file_extension": ".py",
   "mimetype": "text/x-python",
   "name": "python",
   "nbconvert_exporter": "python",
   "pygments_lexer": "ipython3",
   "version": "3.6.9"
  }
 },
 "nbformat": 4,
 "nbformat_minor": 2
}
